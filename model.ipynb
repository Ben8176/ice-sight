{
 "cells": [
  {
   "cell_type": "code",
   "execution_count": null,
   "metadata": {},
   "outputs": [],
   "source": [
    "import xarray as xr\n",
    "\n",
    "def grid_mapping(ruc_data_path, satellite_data, surface_data, radar_data, pireps, cali_data):\n",
    "    \"\"\"\n",
    "    Maps various data sources onto the RUC model grid.\n",
    "\n",
    "    Args:\n",
    "        ruc_data_path (str): Path to the RUC model data file (e.g., NetCDF).\n",
    "        satellite_data (xarray.Dataset): Satellite data containing cloud information.\n",
    "        surface_data (list): List of surface observation dictionaries (METARs).\n",
    "        radar_data (xarray.DataArray): Radar reflectivity data.\n",
    "        pireps (list): List of PIREP dictionaries.\n",
    "        lightning_data (list): List of lightning strike dictionaries.\n",
    "\n",
    "    Returns:\n",
    "        xarray.Dataset: Dataset containing all data mapped to the RUC grid.\n",
    "    \"\"\"\n",
    "\n",
    "    # Load RUC data and extract relevant variables\n",
    "    ruc_data = xr.open_dataset(ruc_data_path)\n",
    "    temperature = ruc_data['temperature']\n",
    "    relative_humidity = ruc_data['relative_humidity']\n",
    "    vertical_velocity = ruc_data['vertical_velocity']\n",
    "    geopotential_height = ruc_data['geopotential_height']\n",
    "    # ... (add other RUC variables as needed)\n",
    "\n",
    "    # --- Satellite Data Mapping ---\n",
    "    # Assuming satellite_data is already on a suitable grid, perform any necessary interpolation or regridding here. \n",
    "    # For example, using xESMF package:\n",
    "    # regridder = xe.Regridder(satellite_data, ruc_data, 'bilinear')\n",
    "    # satellite_data_regridded = regridder(satellite_data)\n",
    "    # Extract cloud information from the regridded satellite data (e.g., cloud top temperature, cloud mask)\n",
    "\n",
    "      # --- Surface Data Mapping ---\n",
    "    # Implement the concentric-circle approach to map surface observations to the RUC grid boxes. \n",
    "    # Create new variables in the RUC dataset to store ceiling height, precipitation occurrence, and precipitation type.\n",
    "\n",
    "    # --- Radar Data Mapping ---\n",
    "    # Assuming radar_data is already on a suitable grid, perform any necessary interpolation or regridding.\n",
    "    # Calculate the percentage of each RUC grid box filled with echoes exceeding the chosen dBZ threshold. \n",
    "    # Store this information in a new variable within the RUC dataset.\n",
    "\n",
    "    # --- PIREP and Lightning Data Mapping ---\n",
    "    # For each PIREP, find the nearest RUC grid points within the specified range (150 km horizontally, 300 m vertically) and \n",
    "    # store the PIREP information (e.g., icing severity) and distance information in the dataset.\n",
    "    # For each lightning strike, find the nearest RUC grid points within the specified range (25 km) and \n",
    "    # store a flag indicating the presence of lightning in the dataset.\n",
    "\n",
    "    # --- Combine all data into a single dataset ---\n",
    "    # Add the processed satellite, surface, radar, PIREP, and lightning data to the RUC dataset.\n",
    "    # ...\n",
    "\n",
    "    return ruc_data  # Now containing all mapped data"
   ]
  },
  {
   "cell_type": "code",
   "execution_count": 1,
   "metadata": {},
   "outputs": [],
   "source": [
    "import xarray as xr \n",
    "import s3fs\n",
    "import matplotlib.pyplot as plt\n",
    "import numpy as np\n",
    "\n",
    "import cartopy.crs as ccrs\n",
    "import cartopy.feature as cfeature \n",
    "\n",
    "\n",
    "fs = s3fs.S3FileSystem(anon=True)\n",
    "f = fs.open(\"s3://noaa-goes16/ABI-L2-ACHTM/2024/001/00/OR_ABI-L2-ACHTM1-M6_G16_s20240010000281_e20240010000338_c20240010001227.nc\")\n",
    "ds = xr.open_dataset(f) "
   ]
  },
  {
   "cell_type": "code",
   "execution_count": 28,
   "metadata": {},
   "outputs": [],
   "source": [
    "def calc_latlon(ds):\n",
    "    # The math for this function was taken from \n",
    "    # https://makersportal.com/blog/2018/11/25/goes-r-satellite-latitude-and-longitude-grid-projection-algorithm\n",
    "    x = ds.x\n",
    "    y = ds.y\n",
    "    goes_imager_projection = ds.goes_imager_projection\n",
    "    \n",
    "    x,y = np.meshgrid(x,y)\n",
    "    \n",
    "    r_eq = goes_imager_projection.attrs[\"semi_major_axis\"]\n",
    "    r_pol = goes_imager_projection.attrs[\"semi_minor_axis\"]\n",
    "    l_0 = goes_imager_projection.attrs[\"longitude_of_projection_origin\"] * (np.pi/180)\n",
    "    h_sat = goes_imager_projection.attrs[\"perspective_point_height\"]\n",
    "    H = r_eq + h_sat\n",
    "    \n",
    "    a = np.sin(x)**2 + (np.cos(x)**2 * (np.cos(y)**2 + (r_eq**2 / r_pol**2) * np.sin(y)**2))\n",
    "    b = -2 * H * np.cos(x) * np.cos(y)\n",
    "    c = H**2 - r_eq**2\n",
    "    \n",
    "    r_s = (-b - np.sqrt(b**2 - 4*a*c))/(2*a)\n",
    "    \n",
    "    s_x = r_s * np.cos(x) * np.cos(y)\n",
    "    s_y = -r_s * np.sin(x)\n",
    "    s_z = r_s * np.cos(x) * np.sin(y)\n",
    "    \n",
    "    lat = np.arctan((r_eq**2 / r_pol**2) * (s_z / np.sqrt((H-s_x)**2 +s_y**2))) * (180/np.pi)\n",
    "    lon = (l_0 - np.arctan(s_y / (H-s_x))) * (180/np.pi)\n",
    "    \n",
    "    ds = ds.assign_coords({\n",
    "        \"lat\":([\"y\",\"x\"],lat),\n",
    "        \"lon\":([\"y\",\"x\"],lon)\n",
    "    })\n",
    "    ds.lat.attrs[\"units\"] = \"degrees_north\"\n",
    "    ds.lon.attrs[\"units\"] = \"degrees_east\"\n",
    "    return ds"
   ]
  },
  {
   "cell_type": "code",
   "execution_count": 29,
   "metadata": {},
   "outputs": [],
   "source": [
    "def get_xy_from_latlon(ds, lats, lons):\n",
    "    lat1, lat2 = lats\n",
    "    lon1, lon2 = lons\n",
    "\n",
    "    lat = ds.lat.data\n",
    "    lon = ds.lon.data\n",
    "    \n",
    "    x = ds.x.data\n",
    "    y = ds.y.data\n",
    "    \n",
    "    x,y = np.meshgrid(x,y)\n",
    "    \n",
    "    x = x[(lat >= lat1) & (lat <= lat2) & (lon >= lon1) & (lon <= lon2)]\n",
    "    y = y[(lat >= lat1) & (lat <= lat2) & (lon >= lon1) & (lon <= lon2)] \n",
    "    \n",
    "    return ((min(x), max(x)), (min(y), max(y)))"
   ]
  },
  {
   "cell_type": "code",
   "execution_count": 30,
   "metadata": {},
   "outputs": [],
   "source": [
    "ds = calc_latlon(ds)"
   ]
  },
  {
   "cell_type": "code",
   "execution_count": 31,
   "metadata": {},
   "outputs": [
    {
     "data": {
      "text/plain": [
       "Coordinates:\n",
       "  * y                   (y) float32 2kB 0.1198 0.1198 0.1197 ... 0.09195 0.0919\n",
       "  * x                   (x) float32 2kB -0.014 -0.01394 ... 0.01389 0.01394\n",
       "    t                   datetime64[ns] 8B ...\n",
       "    y_image             float32 4B ...\n",
       "    x_image             float32 4B ...\n",
       "    local_zenith_angle  float32 4B ...\n",
       "    solar_zenith_angle  float32 4B ...\n",
       "    lat                 (y, x) float32 1MB 45.73 45.73 45.73 ... 32.32 32.32\n",
       "    lon                 (y, x) float32 1MB -81.85 -81.82 -81.8 ... -69.54 -69.52"
      ]
     },
     "execution_count": 31,
     "metadata": {},
     "output_type": "execute_result"
    }
   ],
   "source": [
    "ds.coords"
   ]
  },
  {
   "cell_type": "code",
   "execution_count": 32,
   "metadata": {},
   "outputs": [],
   "source": [
    "lats = (30, 55)\n",
    "lons = (-152, -112)"
   ]
  },
  {
   "cell_type": "code",
   "execution_count": 33,
   "metadata": {},
   "outputs": [
    {
     "ename": "ValueError",
     "evalue": "min() arg is an empty sequence",
     "output_type": "error",
     "traceback": [
      "\u001b[0;31m---------------------------------------------------------------------------\u001b[0m",
      "\u001b[0;31mValueError\u001b[0m                                Traceback (most recent call last)",
      "Cell \u001b[0;32mIn[33], line 1\u001b[0m\n\u001b[0;32m----> 1\u001b[0m ((x1,x2), (y1, y2)) \u001b[38;5;241m=\u001b[39m \u001b[43mget_xy_from_latlon\u001b[49m\u001b[43m(\u001b[49m\u001b[43mds\u001b[49m\u001b[43m,\u001b[49m\u001b[43m \u001b[49m\u001b[43mlats\u001b[49m\u001b[43m,\u001b[49m\u001b[43m \u001b[49m\u001b[43mlons\u001b[49m\u001b[43m)\u001b[49m\n",
      "Cell \u001b[0;32mIn[29], line 16\u001b[0m, in \u001b[0;36mget_xy_from_latlon\u001b[0;34m(ds, lats, lons)\u001b[0m\n\u001b[1;32m     13\u001b[0m x \u001b[38;5;241m=\u001b[39m x[(lat \u001b[38;5;241m>\u001b[39m\u001b[38;5;241m=\u001b[39m lat1) \u001b[38;5;241m&\u001b[39m (lat \u001b[38;5;241m<\u001b[39m\u001b[38;5;241m=\u001b[39m lat2) \u001b[38;5;241m&\u001b[39m (lon \u001b[38;5;241m>\u001b[39m\u001b[38;5;241m=\u001b[39m lon1) \u001b[38;5;241m&\u001b[39m (lon \u001b[38;5;241m<\u001b[39m\u001b[38;5;241m=\u001b[39m lon2)]\n\u001b[1;32m     14\u001b[0m y \u001b[38;5;241m=\u001b[39m y[(lat \u001b[38;5;241m>\u001b[39m\u001b[38;5;241m=\u001b[39m lat1) \u001b[38;5;241m&\u001b[39m (lat \u001b[38;5;241m<\u001b[39m\u001b[38;5;241m=\u001b[39m lat2) \u001b[38;5;241m&\u001b[39m (lon \u001b[38;5;241m>\u001b[39m\u001b[38;5;241m=\u001b[39m lon1) \u001b[38;5;241m&\u001b[39m (lon \u001b[38;5;241m<\u001b[39m\u001b[38;5;241m=\u001b[39m lon2)] \n\u001b[0;32m---> 16\u001b[0m \u001b[38;5;28;01mreturn\u001b[39;00m ((\u001b[38;5;28;43mmin\u001b[39;49m\u001b[43m(\u001b[49m\u001b[43mx\u001b[49m\u001b[43m)\u001b[49m, \u001b[38;5;28mmax\u001b[39m(x)), (\u001b[38;5;28mmin\u001b[39m(y), \u001b[38;5;28mmax\u001b[39m(y)))\n",
      "\u001b[0;31mValueError\u001b[0m: min() arg is an empty sequence"
     ]
    }
   ],
   "source": [
    "((x1,x2), (y1, y2)) = get_xy_from_latlon(ds, lats, lons)\n"
   ]
  }
 ],
 "metadata": {
  "kernelspec": {
   "display_name": "myenv",
   "language": "python",
   "name": "python3"
  },
  "language_info": {
   "codemirror_mode": {
    "name": "ipython",
    "version": 3
   },
   "file_extension": ".py",
   "mimetype": "text/x-python",
   "name": "python",
   "nbconvert_exporter": "python",
   "pygments_lexer": "ipython3",
   "version": "3.11.3"
  }
 },
 "nbformat": 4,
 "nbformat_minor": 2
}
