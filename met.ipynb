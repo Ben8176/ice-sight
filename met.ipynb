{
 "cells": [
  {
   "cell_type": "code",
   "execution_count": null,
   "metadata": {},
   "outputs": [],
   "source": [
    "shapefile_path = \"2daysshapefile/sigmets_202404180000_202404200000.shp\"\n",
    "csv_path = \"sigmets_202404180000_202404200000.csv\""
   ]
  },
  {
   "cell_type": "code",
   "execution_count": null,
   "metadata": {},
   "outputs": [],
   "source": [
    "import geopandas as gpd\n",
    "import matplotlib.pyplot as plt\n",
    "import cartopy.crs as ccrs\n",
    "import cartopy.feature as cfeature\n",
    "\n",
    "# Read the shapefile\n",
    "gdf = gpd.read_file(shapefile_path)\n",
    "\n",
    "# Sort the data by the \"ISSUE\" field\n",
    "gdf = gdf.sort_values(by=\"ISSUE\")\n",
    "\n",
    "def update(frame):\n",
    "    # Create a new figure and axis with Cartopy projection\n",
    "    fig, ax = plt.subplots(figsize=(10, 8), subplot_kw={\"projection\": ccrs.PlateCarree()})\n",
    "\n",
    "    # Add Cartopy borders and features\n",
    "    ax.add_feature(cfeature.COASTLINE)\n",
    "    ax.add_feature(cfeature.BORDERS)\n",
    "    ax.add_feature(cfeature.LAKES, alpha=0.5)\n",
    "    ax.add_feature(cfeature.RIVERS)\n",
    "\n",
    "    # Set the extent of the map to focus on the United States\n",
    "    ax.set_extent([-125, -66.5, 24.5, 49.5])\n",
    "\n",
    "    # Get the current issue time\n",
    "    current_issue = gdf.iloc[frame][\"ISSUE\"]\n",
    "\n",
    "    # Filter the GeoDataFrame to include only the shapes active at the current issue time\n",
    "    current_shapes = gdf[(gdf[\"ISSUE\"] <= current_issue) & (gdf[\"EXPIRE\"] > current_issue)]\n",
    "\n",
    "    # Customize the plot (optional)\n",
    "    ax.set_title(f\"Shapefile Data\\nIssue: {current_issue}\")\n",
    "    ax.set_xlabel(\"Longitude\")\n",
    "    ax.set_ylabel(\"Latitude\")\n",
    "\n",
    "    # Plot the current shapes\n",
    "    current_shapes.plot(ax=ax, markersize=5)\n",
    "\n",
    "    # Display the plot\n",
    "    plt.tight_layout()\n",
    "    plt.show()\n",
    "\n",
    "while True:\n",
    "    # Prompt the user to enter the index\n",
    "    index = input(\"Enter the index of the shape to display (or 'q' to quit): \")\n",
    "    if index.lower() == 'q':\n",
    "        break\n",
    "    try:\n",
    "        index = int(index)\n",
    "        if 0 <= index < len(gdf):\n",
    "            update(index)\n",
    "        else:\n",
    "            print(\"Invalid index. Please enter a valid index.\")\n",
    "    except ValueError:\n",
    "        print(\"Invalid input. Please enter a valid integer index.\")"
   ]
  }
 ],
 "metadata": {
  "kernelspec": {
   "display_name": "myenv",
   "language": "python",
   "name": "python3"
  },
  "language_info": {
   "codemirror_mode": {
    "name": "ipython",
    "version": 3
   },
   "file_extension": ".py",
   "mimetype": "text/x-python",
   "name": "python",
   "nbconvert_exporter": "python",
   "pygments_lexer": "ipython3",
   "version": "3.11.7"
  }
 },
 "nbformat": 4,
 "nbformat_minor": 2
}
