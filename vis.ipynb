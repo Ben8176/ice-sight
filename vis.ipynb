{
 "cells": [
  {
   "cell_type": "code",
   "execution_count": null,
   "metadata": {},
   "outputs": [],
   "source": [
    "import xarray as xr\n",
    "import requests\n",
    "import netCDF4\n",
    "import boto3\n",
    "import boto3\n",
    "from botocore import UNSIGNED\n",
    "from botocore.config import Config\n",
    "import matplotlib.pyplot as plt\n",
    "import cartopy.crs as ccrs\n",
    "import cartopy.feature as cfeature\n"
   ]
  },
  {
   "cell_type": "code",
   "execution_count": null,
   "metadata": {},
   "outputs": [],
   "source": [
    "bucket_name = 'noaa-goes16'\n",
    "product_name = 'ABI-L1b-RadF'\n",
    "year = 2019\n",
    "day_of_year = 79\n",
    "hour = 14\n",
    "band = 3"
   ]
  },
  {
   "cell_type": "code",
   "execution_count": null,
   "metadata": {},
   "outputs": [],
   "source": [
    "# Initialize s3 client. \n",
    "s3_client = boto3.client('s3', config=Config(signature_version=UNSIGNED))"
   ]
  },
  {
   "cell_type": "code",
   "execution_count": null,
   "metadata": {},
   "outputs": [],
   "source": [
    "def get_s3_keys(bucket, s3_client, prefix = ''):\n",
    "    \"\"\"\n",
    "    Generate the keys in an S3 bucket.\n",
    "\n",
    "    :param bucket: Name of the S3 bucket.\n",
    "    :param prefix: Only fetch keys that start with this prefix (optional).\n",
    "    \"\"\"\n",
    "    \n",
    "    kwargs = {'Bucket': bucket}\n",
    "\n",
    "    if isinstance(prefix, str):\n",
    "        kwargs['Prefix'] = prefix\n",
    "\n",
    "    while True:\n",
    "        resp = s3_client.list_objects_v2(**kwargs)\n",
    "        for obj in resp['Contents']:\n",
    "            key = obj['Key']\n",
    "            if key.startswith(prefix):\n",
    "                yield key\n",
    "\n",
    "        try:\n",
    "            kwargs['ContinuationToken'] = resp['NextContinuationToken']\n",
    "        except KeyError:\n",
    "            break"
   ]
  },
  {
   "cell_type": "code",
   "execution_count": null,
   "metadata": {},
   "outputs": [],
   "source": [
    "keys = get_s3_keys(bucket_name,\n",
    "                   s3_client,\n",
    "                   prefix = f'{product_name}/{year}/{day_of_year:03.0f}/{hour:02.0f}/OR_{product_name}-M3C{band:02.0f}'\n",
    "                  )\n",
    "\n",
    "\n",
    "key = [key for key in keys][0] # selecting the first measurement taken within the hour"
   ]
  },
  {
   "cell_type": "code",
   "execution_count": null,
   "metadata": {},
   "outputs": [],
   "source": [
    "# resp = requests.get(f'https://{bucket_name}.s3.amazonaws.com/{key}')\n"
   ]
  },
  {
   "cell_type": "code",
   "execution_count": null,
   "metadata": {},
   "outputs": [],
   "source": [
    "file_name = key.split('/')[-1].split('.')[0]\n",
    "nc4_ds = netCDF4.Dataset(file_name, memory = resp.content)\n",
    "store = xr.backends.NetCDF4DataStore(nc4_ds)\n",
    "DS = xr.open_dataset(store)"
   ]
  },
  {
   "cell_type": "code",
   "execution_count": null,
   "metadata": {},
   "outputs": [],
   "source": [
    "print(DS.attrs)"
   ]
  },
  {
   "cell_type": "code",
   "execution_count": null,
   "metadata": {},
   "outputs": [],
   "source": [
    "# fill_value = -9999\n",
    "# DS['Rad'] = DS['Rad'].fillna(fill_value)\n",
    "\n",
    "# fig = plt.figure(figsize=(15, 12))\n",
    "\n",
    "# # Generate a Cartopy projection\n",
    "# lc = ccrs.LambertConformal(central_longitude=-97.5, standard_parallels=(38.5, 38.5))\n",
    "\n",
    "# ax = fig.add_subplot(1, 1, 1, projection=lc)\n",
    "# ax.set_extent([-135, -60, 10, 65], crs=ccrs.PlateCarree())\n",
    "\n",
    "# x = DS.x.values\n",
    "# y = DS.y.values\n",
    "# goes_imager_projection = DS['Rad'].coords['x'].attrs['projection']\n",
    "\n",
    "# vmin, vmax = 0, 1022  # Adjust these values based on your data range\n",
    "# ax.pcolormesh(x, y, DS.Rad, transform=goes_imager_projection, cmap='gray', vmin=vmin, vmax=vmax)\n",
    "\n",
    "# ax.coastlines(resolution='50m', color='black', linewidth=0.5)\n",
    "# ax.add_feature(cfeature.STATES, linewidth=0.5)\n",
    "\n",
    "# plt.title('GOES-16 Radiance', loc='left', fontweight='bold', fontsize=15)\n",
    "# plt.title('{}'.format(DS.time_coverage_start), loc='right')\n",
    "\n",
    "# plt.show()"
   ]
  },
  {
   "cell_type": "code",
   "execution_count": null,
   "metadata": {},
   "outputs": [],
   "source": [
    "# print(DS.Rad.shape)\n",
    "# print(DS.Rad.isel(x=slice(0, 10), y=slice(0, 10)))"
   ]
  },
  {
   "cell_type": "code",
   "execution_count": null,
   "metadata": {},
   "outputs": [],
   "source": [
    "fig = plt.figure(figsize=(12, 12))\n",
    "plt.imshow(DS.Rad, cmap='gray')\n",
    "plt.axis('off')\n",
    "plt.savefig(f'{file_name}.png', dpi=300, facecolor='w', edgecolor='w')"
   ]
  }
 ],
 "metadata": {
  "kernelspec": {
   "display_name": "myenv",
   "language": "python",
   "name": "python3"
  },
  "language_info": {
   "codemirror_mode": {
    "name": "ipython",
    "version": 3
   },
   "file_extension": ".py",
   "mimetype": "text/x-python",
   "name": "python",
   "nbconvert_exporter": "python",
   "pygments_lexer": "ipython3",
   "version": "3.11.7"
  }
 },
 "nbformat": 4,
 "nbformat_minor": 2
}
